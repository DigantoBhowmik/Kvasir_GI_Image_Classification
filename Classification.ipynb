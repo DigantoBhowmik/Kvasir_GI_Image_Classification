{
  "cells": [
    {
      "cell_type": "code",
      "execution_count": 1,
      "metadata": {
        "id": "HUtjXZn-yIFP"
      },
      "outputs": [],
      "source": [
        "import numpy as np\n",
        "import matplotlib.pyplot as plt\n",
        "import pandas as pd\n",
        "import seaborn as sns\n",
        "import math\n",
        "from sklearn.model_selection import train_test_split, GridSearchCV\n",
        "from sklearn.metrics import confusion_matrix,accuracy_score,classification_report\n",
        "from sklearn.svm import SVC\n",
        "from sklearn.neighbors import KNeighborsClassifier\n",
        "from sklearn.preprocessing import LabelEncoder\n",
        "from sklearn.preprocessing import StandardScaler\n",
        "from sklearn.ensemble import RandomForestClassifier\n",
        "from sklearn.discriminant_analysis import LinearDiscriminantAnalysis\n",
        "import pickle"
      ]
    },
    {
      "cell_type": "code",
      "execution_count": 2,
      "metadata": {
        "id": "9QNalYQP-_yf"
      },
      "outputs": [],
      "source": [
        "import logging\n",
        "logging.getLogger('googleapiclient.discovery_cache').setLevel(logging.ERROR)\n",
        "from pydrive.auth import GoogleAuth\n",
        "from pydrive.drive import GoogleDrive\n",
        "from google.colab import auth\n",
        "from oauth2client.client import GoogleCredentials\n",
        "\n",
        "auth.authenticate_user()\n",
        "gauth = GoogleAuth()\n",
        "gauth.credentials = GoogleCredentials.get_application_default()\n",
        "drive = GoogleDrive(gauth)"
      ]
    },
    {
      "cell_type": "code",
      "execution_count": 46,
      "metadata": {
        "colab": {
          "base_uri": "https://localhost:8080/"
        },
        "id": "NWv8Gz5XKx0f",
        "outputId": "9498d4cb-febc-446b-df02-694dbd70f9ce"
      },
      "outputs": [
        {
          "name": "stdout",
          "output_type": "stream",
          "text": [
            "gs://tibot-ml-labeling/datasets/Humanbody/Diganto/dataset.zip\n",
            "gs://tibot-ml-labeling/datasets/Humanbody/gaju/HbodyDataset.zip\n",
            "gs://tibot-ml-labeling/datasets/Humanbody/rifat/human_dataset.zip\n",
            "gs://tibot-ml-labeling/datasets/cats_vs_dogs_dataset.zip\n",
            "gs://tibot-ml-labeling/datasets/kvasir/diganto_efficientvit_m3_2600.pkl\n",
            "gs://tibot-ml-labeling/datasets/kvasir/diganto_efficientvit_m3_320.pkl\n",
            "gs://tibot-ml-labeling/datasets/kvasir/fastVit_T8_features.pkl\n",
            "gs://tibot-ml-labeling/datasets/kvasir/rifat_mobileOne_s4_2048.pkl\n"
          ]
        }
      ],
      "source": [
        "!gsutil ls gs://tibot-ml-labeling/datasets/**"
      ]
    },
    {
      "cell_type": "code",
      "execution_count": 47,
      "metadata": {
        "id": "5m50tLNeSHSH"
      },
      "outputs": [],
      "source": [
        "!gsutil -mq cp gs://tibot-ml-labeling/datasets/kvasir/fastVit_T8_features.pkl ./"
      ]
    },
    {
      "cell_type": "code",
      "execution_count": 48,
      "metadata": {
        "id": "eiGmCvqHK9lI"
      },
      "outputs": [],
      "source": [
        "!gsutil -mq cp gs://tibot-ml-labeling/datasets/kvasir/rifat_mobileOne_s4_2048.pkl ./"
      ]
    },
    {
      "cell_type": "markdown",
      "metadata": {
        "id": "TW62G6HsA90b"
      },
      "source": [
        "# Load Pickle"
      ]
    },
    {
      "cell_type": "code",
      "execution_count": 4,
      "metadata": {
        "id": "JtbS7Ku5wr2G"
      },
      "outputs": [],
      "source": [
        "import pickle\n",
        "\n",
        "filepath = 'drive/MyDrive/feature/diganto_efficientvit_m3_320.pkl'\n",
        "\n",
        "# Save the dictionary into a pickle file\n",
        "with open(filepath, 'rb') as f:\n",
        "    feature_dict = pickle.load(f)"
      ]
    },
    {
      "cell_type": "code",
      "execution_count": 49,
      "metadata": {
        "id": "yXiWfpjuLB5u"
      },
      "outputs": [],
      "source": [
        "filepath = '/content/rifat_mobileOne_s4_2048.pkl'\n",
        "\n",
        "# Save the dictionary into a pickle file\n",
        "with open(filepath, 'rb') as f:\n",
        "    feature_dict_rifat = pickle.load(f)"
      ]
    },
    {
      "cell_type": "code",
      "execution_count": 51,
      "metadata": {
        "id": "iq80Q02_UJiN"
      },
      "outputs": [],
      "source": [
        "filepath = '/content/fastVit_T8_features.pkl'\n",
        "\n",
        "# Save the dictionary into a pickle file\n",
        "with open(filepath, 'rb') as f:\n",
        "    feature_dict_gaju = pickle.load(f)"
      ]
    },
    {
      "cell_type": "markdown",
      "metadata": {
        "id": "Ex5aFFUQJQZd"
      },
      "source": [
        "# EfficientVitM3 features"
      ]
    },
    {
      "cell_type": "markdown",
      "metadata": {
        "id": "wG1AXwCzIHTO"
      },
      "source": [
        "## EDA"
      ]
    },
    {
      "cell_type": "code",
      "execution_count": 84,
      "metadata": {
        "id": "IE5bNa8e27oI"
      },
      "outputs": [],
      "source": [
        "X = feature_dict['features']\n",
        "Y = feature_dict['label']"
      ]
    },
    {
      "cell_type": "code",
      "execution_count": 85,
      "metadata": {
        "id": "JDeDCLsZiZ7v"
      },
      "outputs": [],
      "source": [
        "# Convert the list of feature arrays to a DataFrame\n",
        "df = pd.DataFrame(X)\n",
        "df['class'] = Y"
      ]
    },
    {
      "cell_type": "code",
      "execution_count": 34,
      "metadata": {
        "colab": {
          "base_uri": "https://localhost:8080/",
          "height": 429
        },
        "id": "7-jGrlyq0qrt",
        "outputId": "60e0babc-c391-47d5-f29c-82ee15d743a5"
      },
      "outputs": [
        {
          "data": {
            "text/html": [
              "\n",
              "  <div id=\"df-6373d1e4-5a1a-46df-9ff9-a600dc545a25\" class=\"colab-df-container\">\n",
              "    <div>\n",
              "<style scoped>\n",
              "    .dataframe tbody tr th:only-of-type {\n",
              "        vertical-align: middle;\n",
              "    }\n",
              "\n",
              "    .dataframe tbody tr th {\n",
              "        vertical-align: top;\n",
              "    }\n",
              "\n",
              "    .dataframe thead th {\n",
              "        text-align: right;\n",
              "    }\n",
              "</style>\n",
              "<table border=\"1\" class=\"dataframe\">\n",
              "  <thead>\n",
              "    <tr style=\"text-align: right;\">\n",
              "      <th></th>\n",
              "      <th>0</th>\n",
              "      <th>1</th>\n",
              "      <th>2</th>\n",
              "      <th>3</th>\n",
              "      <th>4</th>\n",
              "      <th>5</th>\n",
              "      <th>6</th>\n",
              "      <th>7</th>\n",
              "      <th>8</th>\n",
              "      <th>9</th>\n",
              "      <th>...</th>\n",
              "      <th>311</th>\n",
              "      <th>312</th>\n",
              "      <th>313</th>\n",
              "      <th>314</th>\n",
              "      <th>315</th>\n",
              "      <th>316</th>\n",
              "      <th>317</th>\n",
              "      <th>318</th>\n",
              "      <th>319</th>\n",
              "      <th>class</th>\n",
              "    </tr>\n",
              "  </thead>\n",
              "  <tbody>\n",
              "    <tr>\n",
              "      <th>0</th>\n",
              "      <td>-2.528192</td>\n",
              "      <td>-6.607552</td>\n",
              "      <td>-9.971182</td>\n",
              "      <td>-2.110953</td>\n",
              "      <td>26.845852</td>\n",
              "      <td>-12.796398</td>\n",
              "      <td>1.073490</td>\n",
              "      <td>2.507070</td>\n",
              "      <td>4.491453</td>\n",
              "      <td>1.222635</td>\n",
              "      <td>...</td>\n",
              "      <td>-1.181589</td>\n",
              "      <td>-3.512823</td>\n",
              "      <td>0.263605</td>\n",
              "      <td>-0.434646</td>\n",
              "      <td>0.936138</td>\n",
              "      <td>-3.336556</td>\n",
              "      <td>6.705895</td>\n",
              "      <td>3.875189</td>\n",
              "      <td>-2.464638</td>\n",
              "      <td>dyed-lifted-polyps</td>\n",
              "    </tr>\n",
              "    <tr>\n",
              "      <th>1</th>\n",
              "      <td>-5.080381</td>\n",
              "      <td>-2.686096</td>\n",
              "      <td>-10.542160</td>\n",
              "      <td>-0.750151</td>\n",
              "      <td>27.379881</td>\n",
              "      <td>-12.802082</td>\n",
              "      <td>1.333564</td>\n",
              "      <td>-0.326514</td>\n",
              "      <td>-0.125084</td>\n",
              "      <td>0.766131</td>\n",
              "      <td>...</td>\n",
              "      <td>2.545212</td>\n",
              "      <td>-5.507615</td>\n",
              "      <td>0.200104</td>\n",
              "      <td>-0.619598</td>\n",
              "      <td>0.676777</td>\n",
              "      <td>-3.322640</td>\n",
              "      <td>6.763563</td>\n",
              "      <td>3.956251</td>\n",
              "      <td>-2.542947</td>\n",
              "      <td>dyed-lifted-polyps</td>\n",
              "    </tr>\n",
              "    <tr>\n",
              "      <th>2</th>\n",
              "      <td>-1.895429</td>\n",
              "      <td>-6.398154</td>\n",
              "      <td>-9.378530</td>\n",
              "      <td>-0.509677</td>\n",
              "      <td>28.583794</td>\n",
              "      <td>-11.966479</td>\n",
              "      <td>-4.498934</td>\n",
              "      <td>0.301890</td>\n",
              "      <td>-0.601332</td>\n",
              "      <td>0.221790</td>\n",
              "      <td>...</td>\n",
              "      <td>1.246223</td>\n",
              "      <td>-4.926346</td>\n",
              "      <td>0.732132</td>\n",
              "      <td>0.108200</td>\n",
              "      <td>0.511949</td>\n",
              "      <td>-7.704895</td>\n",
              "      <td>5.995973</td>\n",
              "      <td>3.708626</td>\n",
              "      <td>-2.870436</td>\n",
              "      <td>dyed-lifted-polyps</td>\n",
              "    </tr>\n",
              "    <tr>\n",
              "      <th>3</th>\n",
              "      <td>-3.844713</td>\n",
              "      <td>-5.426737</td>\n",
              "      <td>-8.597269</td>\n",
              "      <td>-2.620388</td>\n",
              "      <td>27.641174</td>\n",
              "      <td>-13.773445</td>\n",
              "      <td>-4.418326</td>\n",
              "      <td>0.038130</td>\n",
              "      <td>-1.376938</td>\n",
              "      <td>1.037800</td>\n",
              "      <td>...</td>\n",
              "      <td>1.798866</td>\n",
              "      <td>-5.932832</td>\n",
              "      <td>0.819516</td>\n",
              "      <td>-0.381854</td>\n",
              "      <td>0.596074</td>\n",
              "      <td>-3.814690</td>\n",
              "      <td>6.502958</td>\n",
              "      <td>4.142476</td>\n",
              "      <td>-5.241688</td>\n",
              "      <td>dyed-lifted-polyps</td>\n",
              "    </tr>\n",
              "    <tr>\n",
              "      <th>4</th>\n",
              "      <td>-3.257241</td>\n",
              "      <td>-3.893371</td>\n",
              "      <td>-8.911982</td>\n",
              "      <td>-0.457302</td>\n",
              "      <td>26.229643</td>\n",
              "      <td>-13.227119</td>\n",
              "      <td>1.146942</td>\n",
              "      <td>-0.027350</td>\n",
              "      <td>-0.941652</td>\n",
              "      <td>0.996481</td>\n",
              "      <td>...</td>\n",
              "      <td>3.061702</td>\n",
              "      <td>-4.194107</td>\n",
              "      <td>1.622558</td>\n",
              "      <td>-1.406720</td>\n",
              "      <td>1.373357</td>\n",
              "      <td>-2.949967</td>\n",
              "      <td>4.613897</td>\n",
              "      <td>4.599205</td>\n",
              "      <td>-3.678505</td>\n",
              "      <td>dyed-lifted-polyps</td>\n",
              "    </tr>\n",
              "  </tbody>\n",
              "</table>\n",
              "<p>5 rows × 321 columns</p>\n",
              "</div>\n",
              "    <div class=\"colab-df-buttons\">\n",
              "\n",
              "  <div class=\"colab-df-container\">\n",
              "    <button class=\"colab-df-convert\" onclick=\"convertToInteractive('df-6373d1e4-5a1a-46df-9ff9-a600dc545a25')\"\n",
              "            title=\"Convert this dataframe to an interactive table.\"\n",
              "            style=\"display:none;\">\n",
              "\n",
              "  <svg xmlns=\"http://www.w3.org/2000/svg\" height=\"24px\" viewBox=\"0 -960 960 960\">\n",
              "    <path d=\"M120-120v-720h720v720H120Zm60-500h600v-160H180v160Zm220 220h160v-160H400v160Zm0 220h160v-160H400v160ZM180-400h160v-160H180v160Zm440 0h160v-160H620v160ZM180-180h160v-160H180v160Zm440 0h160v-160H620v160Z\"/>\n",
              "  </svg>\n",
              "    </button>\n",
              "\n",
              "  <style>\n",
              "    .colab-df-container {\n",
              "      display:flex;\n",
              "      gap: 12px;\n",
              "    }\n",
              "\n",
              "    .colab-df-convert {\n",
              "      background-color: #E8F0FE;\n",
              "      border: none;\n",
              "      border-radius: 50%;\n",
              "      cursor: pointer;\n",
              "      display: none;\n",
              "      fill: #1967D2;\n",
              "      height: 32px;\n",
              "      padding: 0 0 0 0;\n",
              "      width: 32px;\n",
              "    }\n",
              "\n",
              "    .colab-df-convert:hover {\n",
              "      background-color: #E2EBFA;\n",
              "      box-shadow: 0px 1px 2px rgba(60, 64, 67, 0.3), 0px 1px 3px 1px rgba(60, 64, 67, 0.15);\n",
              "      fill: #174EA6;\n",
              "    }\n",
              "\n",
              "    .colab-df-buttons div {\n",
              "      margin-bottom: 4px;\n",
              "    }\n",
              "\n",
              "    [theme=dark] .colab-df-convert {\n",
              "      background-color: #3B4455;\n",
              "      fill: #D2E3FC;\n",
              "    }\n",
              "\n",
              "    [theme=dark] .colab-df-convert:hover {\n",
              "      background-color: #434B5C;\n",
              "      box-shadow: 0px 1px 3px 1px rgba(0, 0, 0, 0.15);\n",
              "      filter: drop-shadow(0px 1px 2px rgba(0, 0, 0, 0.3));\n",
              "      fill: #FFFFFF;\n",
              "    }\n",
              "  </style>\n",
              "\n",
              "    <script>\n",
              "      const buttonEl =\n",
              "        document.querySelector('#df-6373d1e4-5a1a-46df-9ff9-a600dc545a25 button.colab-df-convert');\n",
              "      buttonEl.style.display =\n",
              "        google.colab.kernel.accessAllowed ? 'block' : 'none';\n",
              "\n",
              "      async function convertToInteractive(key) {\n",
              "        const element = document.querySelector('#df-6373d1e4-5a1a-46df-9ff9-a600dc545a25');\n",
              "        const dataTable =\n",
              "          await google.colab.kernel.invokeFunction('convertToInteractive',\n",
              "                                                    [key], {});\n",
              "        if (!dataTable) return;\n",
              "\n",
              "        const docLinkHtml = 'Like what you see? Visit the ' +\n",
              "          '<a target=\"_blank\" href=https://colab.research.google.com/notebooks/data_table.ipynb>data table notebook</a>'\n",
              "          + ' to learn more about interactive tables.';\n",
              "        element.innerHTML = '';\n",
              "        dataTable['output_type'] = 'display_data';\n",
              "        await google.colab.output.renderOutput(dataTable, element);\n",
              "        const docLink = document.createElement('div');\n",
              "        docLink.innerHTML = docLinkHtml;\n",
              "        element.appendChild(docLink);\n",
              "      }\n",
              "    </script>\n",
              "  </div>\n",
              "\n",
              "\n",
              "<div id=\"df-ffc9a879-dea8-4f76-9447-ef40a1a7aedb\">\n",
              "  <button class=\"colab-df-quickchart\" onclick=\"quickchart('df-ffc9a879-dea8-4f76-9447-ef40a1a7aedb')\"\n",
              "            title=\"Suggest charts.\"\n",
              "            style=\"display:none;\">\n",
              "\n",
              "<svg xmlns=\"http://www.w3.org/2000/svg\" height=\"24px\"viewBox=\"0 0 24 24\"\n",
              "     width=\"24px\">\n",
              "    <g>\n",
              "        <path d=\"M19 3H5c-1.1 0-2 .9-2 2v14c0 1.1.9 2 2 2h14c1.1 0 2-.9 2-2V5c0-1.1-.9-2-2-2zM9 17H7v-7h2v7zm4 0h-2V7h2v10zm4 0h-2v-4h2v4z\"/>\n",
              "    </g>\n",
              "</svg>\n",
              "  </button>\n",
              "\n",
              "<style>\n",
              "  .colab-df-quickchart {\n",
              "      --bg-color: #E8F0FE;\n",
              "      --fill-color: #1967D2;\n",
              "      --hover-bg-color: #E2EBFA;\n",
              "      --hover-fill-color: #174EA6;\n",
              "      --disabled-fill-color: #AAA;\n",
              "      --disabled-bg-color: #DDD;\n",
              "  }\n",
              "\n",
              "  [theme=dark] .colab-df-quickchart {\n",
              "      --bg-color: #3B4455;\n",
              "      --fill-color: #D2E3FC;\n",
              "      --hover-bg-color: #434B5C;\n",
              "      --hover-fill-color: #FFFFFF;\n",
              "      --disabled-bg-color: #3B4455;\n",
              "      --disabled-fill-color: #666;\n",
              "  }\n",
              "\n",
              "  .colab-df-quickchart {\n",
              "    background-color: var(--bg-color);\n",
              "    border: none;\n",
              "    border-radius: 50%;\n",
              "    cursor: pointer;\n",
              "    display: none;\n",
              "    fill: var(--fill-color);\n",
              "    height: 32px;\n",
              "    padding: 0;\n",
              "    width: 32px;\n",
              "  }\n",
              "\n",
              "  .colab-df-quickchart:hover {\n",
              "    background-color: var(--hover-bg-color);\n",
              "    box-shadow: 0 1px 2px rgba(60, 64, 67, 0.3), 0 1px 3px 1px rgba(60, 64, 67, 0.15);\n",
              "    fill: var(--button-hover-fill-color);\n",
              "  }\n",
              "\n",
              "  .colab-df-quickchart-complete:disabled,\n",
              "  .colab-df-quickchart-complete:disabled:hover {\n",
              "    background-color: var(--disabled-bg-color);\n",
              "    fill: var(--disabled-fill-color);\n",
              "    box-shadow: none;\n",
              "  }\n",
              "\n",
              "  .colab-df-spinner {\n",
              "    border: 2px solid var(--fill-color);\n",
              "    border-color: transparent;\n",
              "    border-bottom-color: var(--fill-color);\n",
              "    animation:\n",
              "      spin 1s steps(1) infinite;\n",
              "  }\n",
              "\n",
              "  @keyframes spin {\n",
              "    0% {\n",
              "      border-color: transparent;\n",
              "      border-bottom-color: var(--fill-color);\n",
              "      border-left-color: var(--fill-color);\n",
              "    }\n",
              "    20% {\n",
              "      border-color: transparent;\n",
              "      border-left-color: var(--fill-color);\n",
              "      border-top-color: var(--fill-color);\n",
              "    }\n",
              "    30% {\n",
              "      border-color: transparent;\n",
              "      border-left-color: var(--fill-color);\n",
              "      border-top-color: var(--fill-color);\n",
              "      border-right-color: var(--fill-color);\n",
              "    }\n",
              "    40% {\n",
              "      border-color: transparent;\n",
              "      border-right-color: var(--fill-color);\n",
              "      border-top-color: var(--fill-color);\n",
              "    }\n",
              "    60% {\n",
              "      border-color: transparent;\n",
              "      border-right-color: var(--fill-color);\n",
              "    }\n",
              "    80% {\n",
              "      border-color: transparent;\n",
              "      border-right-color: var(--fill-color);\n",
              "      border-bottom-color: var(--fill-color);\n",
              "    }\n",
              "    90% {\n",
              "      border-color: transparent;\n",
              "      border-bottom-color: var(--fill-color);\n",
              "    }\n",
              "  }\n",
              "</style>\n",
              "\n",
              "  <script>\n",
              "    async function quickchart(key) {\n",
              "      const quickchartButtonEl =\n",
              "        document.querySelector('#' + key + ' button');\n",
              "      quickchartButtonEl.disabled = true;  // To prevent multiple clicks.\n",
              "      quickchartButtonEl.classList.add('colab-df-spinner');\n",
              "      try {\n",
              "        const charts = await google.colab.kernel.invokeFunction(\n",
              "            'suggestCharts', [key], {});\n",
              "      } catch (error) {\n",
              "        console.error('Error during call to suggestCharts:', error);\n",
              "      }\n",
              "      quickchartButtonEl.classList.remove('colab-df-spinner');\n",
              "      quickchartButtonEl.classList.add('colab-df-quickchart-complete');\n",
              "    }\n",
              "    (() => {\n",
              "      let quickchartButtonEl =\n",
              "        document.querySelector('#df-ffc9a879-dea8-4f76-9447-ef40a1a7aedb button');\n",
              "      quickchartButtonEl.style.display =\n",
              "        google.colab.kernel.accessAllowed ? 'block' : 'none';\n",
              "    })();\n",
              "  </script>\n",
              "</div>\n",
              "    </div>\n",
              "  </div>\n"
            ],
            "text/plain": [
              "          0         1          2         3          4          5         6  \\\n",
              "0 -2.528192 -6.607552  -9.971182 -2.110953  26.845852 -12.796398  1.073490   \n",
              "1 -5.080381 -2.686096 -10.542160 -0.750151  27.379881 -12.802082  1.333564   \n",
              "2 -1.895429 -6.398154  -9.378530 -0.509677  28.583794 -11.966479 -4.498934   \n",
              "3 -3.844713 -5.426737  -8.597269 -2.620388  27.641174 -13.773445 -4.418326   \n",
              "4 -3.257241 -3.893371  -8.911982 -0.457302  26.229643 -13.227119  1.146942   \n",
              "\n",
              "          7         8         9  ...       311       312       313       314  \\\n",
              "0  2.507070  4.491453  1.222635  ... -1.181589 -3.512823  0.263605 -0.434646   \n",
              "1 -0.326514 -0.125084  0.766131  ...  2.545212 -5.507615  0.200104 -0.619598   \n",
              "2  0.301890 -0.601332  0.221790  ...  1.246223 -4.926346  0.732132  0.108200   \n",
              "3  0.038130 -1.376938  1.037800  ...  1.798866 -5.932832  0.819516 -0.381854   \n",
              "4 -0.027350 -0.941652  0.996481  ...  3.061702 -4.194107  1.622558 -1.406720   \n",
              "\n",
              "        315       316       317       318       319               class  \n",
              "0  0.936138 -3.336556  6.705895  3.875189 -2.464638  dyed-lifted-polyps  \n",
              "1  0.676777 -3.322640  6.763563  3.956251 -2.542947  dyed-lifted-polyps  \n",
              "2  0.511949 -7.704895  5.995973  3.708626 -2.870436  dyed-lifted-polyps  \n",
              "3  0.596074 -3.814690  6.502958  4.142476 -5.241688  dyed-lifted-polyps  \n",
              "4  1.373357 -2.949967  4.613897  4.599205 -3.678505  dyed-lifted-polyps  \n",
              "\n",
              "[5 rows x 321 columns]"
            ]
          },
          "execution_count": 34,
          "metadata": {},
          "output_type": "execute_result"
        }
      ],
      "source": [
        "df.head()"
      ]
    },
    {
      "cell_type": "code",
      "execution_count": 35,
      "metadata": {
        "colab": {
          "base_uri": "https://localhost:8080/"
        },
        "id": "PxVQ8kllIaqQ",
        "outputId": "3fc53834-9b9a-492b-caea-22b9709ec25d"
      },
      "outputs": [
        {
          "data": {
            "text/plain": [
              "(8000, 321)"
            ]
          },
          "execution_count": 35,
          "metadata": {},
          "output_type": "execute_result"
        }
      ],
      "source": [
        "df.shape"
      ]
    },
    {
      "cell_type": "code",
      "execution_count": 36,
      "metadata": {
        "colab": {
          "base_uri": "https://localhost:8080/"
        },
        "id": "T_WPIWVbIlsi",
        "outputId": "16d59f9b-dea1-4ce7-cf7b-355b7bec8e28"
      },
      "outputs": [
        {
          "name": "stdout",
          "output_type": "stream",
          "text": [
            "<class 'pandas.core.frame.DataFrame'>\n",
            "RangeIndex: 8000 entries, 0 to 7999\n",
            "Columns: 321 entries, 0 to class\n",
            "dtypes: float32(320), object(1)\n",
            "memory usage: 9.8+ MB\n"
          ]
        }
      ],
      "source": [
        "df.info()"
      ]
    },
    {
      "cell_type": "code",
      "execution_count": 37,
      "metadata": {
        "colab": {
          "base_uri": "https://localhost:8080/",
          "height": 424
        },
        "id": "0hnuACrKVnd8",
        "outputId": "bf2b565f-394c-44de-cd8a-75f67828c482"
      },
      "outputs": [
        {
          "data": {
            "text/html": [
              "\n",
              "  <div id=\"df-1a1380ae-921c-4f64-a7cb-e421158de383\" class=\"colab-df-container\">\n",
              "    <div>\n",
              "<style scoped>\n",
              "    .dataframe tbody tr th:only-of-type {\n",
              "        vertical-align: middle;\n",
              "    }\n",
              "\n",
              "    .dataframe tbody tr th {\n",
              "        vertical-align: top;\n",
              "    }\n",
              "\n",
              "    .dataframe thead th {\n",
              "        text-align: right;\n",
              "    }\n",
              "</style>\n",
              "<table border=\"1\" class=\"dataframe\">\n",
              "  <thead>\n",
              "    <tr style=\"text-align: right;\">\n",
              "      <th></th>\n",
              "      <th>count</th>\n",
              "      <th>mean</th>\n",
              "      <th>std</th>\n",
              "      <th>min</th>\n",
              "      <th>25%</th>\n",
              "      <th>50%</th>\n",
              "      <th>75%</th>\n",
              "      <th>max</th>\n",
              "    </tr>\n",
              "  </thead>\n",
              "  <tbody>\n",
              "    <tr>\n",
              "      <th>0</th>\n",
              "      <td>8000.0</td>\n",
              "      <td>-3.036464</td>\n",
              "      <td>1.436143</td>\n",
              "      <td>-8.802693</td>\n",
              "      <td>-3.965404</td>\n",
              "      <td>-3.036228</td>\n",
              "      <td>-2.089432</td>\n",
              "      <td>3.014195</td>\n",
              "    </tr>\n",
              "    <tr>\n",
              "      <th>1</th>\n",
              "      <td>8000.0</td>\n",
              "      <td>-4.413765</td>\n",
              "      <td>1.263992</td>\n",
              "      <td>-9.597610</td>\n",
              "      <td>-5.260936</td>\n",
              "      <td>-4.420482</td>\n",
              "      <td>-3.555413</td>\n",
              "      <td>0.637649</td>\n",
              "    </tr>\n",
              "    <tr>\n",
              "      <th>2</th>\n",
              "      <td>8000.0</td>\n",
              "      <td>-9.780853</td>\n",
              "      <td>0.962901</td>\n",
              "      <td>-13.777388</td>\n",
              "      <td>-10.420293</td>\n",
              "      <td>-9.759801</td>\n",
              "      <td>-9.128676</td>\n",
              "      <td>-6.078633</td>\n",
              "    </tr>\n",
              "    <tr>\n",
              "      <th>3</th>\n",
              "      <td>8000.0</td>\n",
              "      <td>-0.163787</td>\n",
              "      <td>1.346645</td>\n",
              "      <td>-5.274294</td>\n",
              "      <td>-1.064968</td>\n",
              "      <td>-0.155831</td>\n",
              "      <td>0.767186</td>\n",
              "      <td>4.793526</td>\n",
              "    </tr>\n",
              "    <tr>\n",
              "      <th>4</th>\n",
              "      <td>8000.0</td>\n",
              "      <td>27.017326</td>\n",
              "      <td>1.221191</td>\n",
              "      <td>22.813808</td>\n",
              "      <td>26.178951</td>\n",
              "      <td>27.022849</td>\n",
              "      <td>27.845120</td>\n",
              "      <td>31.877068</td>\n",
              "    </tr>\n",
              "    <tr>\n",
              "      <th>...</th>\n",
              "      <td>...</td>\n",
              "      <td>...</td>\n",
              "      <td>...</td>\n",
              "      <td>...</td>\n",
              "      <td>...</td>\n",
              "      <td>...</td>\n",
              "      <td>...</td>\n",
              "      <td>...</td>\n",
              "    </tr>\n",
              "    <tr>\n",
              "      <th>315</th>\n",
              "      <td>8000.0</td>\n",
              "      <td>1.218885</td>\n",
              "      <td>0.650336</td>\n",
              "      <td>-1.727208</td>\n",
              "      <td>0.795892</td>\n",
              "      <td>1.237683</td>\n",
              "      <td>1.654064</td>\n",
              "      <td>3.999144</td>\n",
              "    </tr>\n",
              "    <tr>\n",
              "      <th>316</th>\n",
              "      <td>8000.0</td>\n",
              "      <td>-3.115287</td>\n",
              "      <td>1.878448</td>\n",
              "      <td>-12.177952</td>\n",
              "      <td>-4.225558</td>\n",
              "      <td>-2.894011</td>\n",
              "      <td>-1.795393</td>\n",
              "      <td>3.116571</td>\n",
              "    </tr>\n",
              "    <tr>\n",
              "      <th>317</th>\n",
              "      <td>8000.0</td>\n",
              "      <td>5.773564</td>\n",
              "      <td>1.077658</td>\n",
              "      <td>1.163040</td>\n",
              "      <td>5.035592</td>\n",
              "      <td>5.769738</td>\n",
              "      <td>6.490644</td>\n",
              "      <td>9.987671</td>\n",
              "    </tr>\n",
              "    <tr>\n",
              "      <th>318</th>\n",
              "      <td>8000.0</td>\n",
              "      <td>4.442849</td>\n",
              "      <td>0.768145</td>\n",
              "      <td>1.315123</td>\n",
              "      <td>3.931367</td>\n",
              "      <td>4.450763</td>\n",
              "      <td>4.958741</td>\n",
              "      <td>7.214769</td>\n",
              "    </tr>\n",
              "    <tr>\n",
              "      <th>319</th>\n",
              "      <td>8000.0</td>\n",
              "      <td>-2.655662</td>\n",
              "      <td>1.289004</td>\n",
              "      <td>-7.891884</td>\n",
              "      <td>-3.499657</td>\n",
              "      <td>-2.676507</td>\n",
              "      <td>-1.799967</td>\n",
              "      <td>3.527653</td>\n",
              "    </tr>\n",
              "  </tbody>\n",
              "</table>\n",
              "<p>320 rows × 8 columns</p>\n",
              "</div>\n",
              "    <div class=\"colab-df-buttons\">\n",
              "\n",
              "  <div class=\"colab-df-container\">\n",
              "    <button class=\"colab-df-convert\" onclick=\"convertToInteractive('df-1a1380ae-921c-4f64-a7cb-e421158de383')\"\n",
              "            title=\"Convert this dataframe to an interactive table.\"\n",
              "            style=\"display:none;\">\n",
              "\n",
              "  <svg xmlns=\"http://www.w3.org/2000/svg\" height=\"24px\" viewBox=\"0 -960 960 960\">\n",
              "    <path d=\"M120-120v-720h720v720H120Zm60-500h600v-160H180v160Zm220 220h160v-160H400v160Zm0 220h160v-160H400v160ZM180-400h160v-160H180v160Zm440 0h160v-160H620v160ZM180-180h160v-160H180v160Zm440 0h160v-160H620v160Z\"/>\n",
              "  </svg>\n",
              "    </button>\n",
              "\n",
              "  <style>\n",
              "    .colab-df-container {\n",
              "      display:flex;\n",
              "      gap: 12px;\n",
              "    }\n",
              "\n",
              "    .colab-df-convert {\n",
              "      background-color: #E8F0FE;\n",
              "      border: none;\n",
              "      border-radius: 50%;\n",
              "      cursor: pointer;\n",
              "      display: none;\n",
              "      fill: #1967D2;\n",
              "      height: 32px;\n",
              "      padding: 0 0 0 0;\n",
              "      width: 32px;\n",
              "    }\n",
              "\n",
              "    .colab-df-convert:hover {\n",
              "      background-color: #E2EBFA;\n",
              "      box-shadow: 0px 1px 2px rgba(60, 64, 67, 0.3), 0px 1px 3px 1px rgba(60, 64, 67, 0.15);\n",
              "      fill: #174EA6;\n",
              "    }\n",
              "\n",
              "    .colab-df-buttons div {\n",
              "      margin-bottom: 4px;\n",
              "    }\n",
              "\n",
              "    [theme=dark] .colab-df-convert {\n",
              "      background-color: #3B4455;\n",
              "      fill: #D2E3FC;\n",
              "    }\n",
              "\n",
              "    [theme=dark] .colab-df-convert:hover {\n",
              "      background-color: #434B5C;\n",
              "      box-shadow: 0px 1px 3px 1px rgba(0, 0, 0, 0.15);\n",
              "      filter: drop-shadow(0px 1px 2px rgba(0, 0, 0, 0.3));\n",
              "      fill: #FFFFFF;\n",
              "    }\n",
              "  </style>\n",
              "\n",
              "    <script>\n",
              "      const buttonEl =\n",
              "        document.querySelector('#df-1a1380ae-921c-4f64-a7cb-e421158de383 button.colab-df-convert');\n",
              "      buttonEl.style.display =\n",
              "        google.colab.kernel.accessAllowed ? 'block' : 'none';\n",
              "\n",
              "      async function convertToInteractive(key) {\n",
              "        const element = document.querySelector('#df-1a1380ae-921c-4f64-a7cb-e421158de383');\n",
              "        const dataTable =\n",
              "          await google.colab.kernel.invokeFunction('convertToInteractive',\n",
              "                                                    [key], {});\n",
              "        if (!dataTable) return;\n",
              "\n",
              "        const docLinkHtml = 'Like what you see? Visit the ' +\n",
              "          '<a target=\"_blank\" href=https://colab.research.google.com/notebooks/data_table.ipynb>data table notebook</a>'\n",
              "          + ' to learn more about interactive tables.';\n",
              "        element.innerHTML = '';\n",
              "        dataTable['output_type'] = 'display_data';\n",
              "        await google.colab.output.renderOutput(dataTable, element);\n",
              "        const docLink = document.createElement('div');\n",
              "        docLink.innerHTML = docLinkHtml;\n",
              "        element.appendChild(docLink);\n",
              "      }\n",
              "    </script>\n",
              "  </div>\n",
              "\n",
              "\n",
              "<div id=\"df-dfac29c2-9652-46c1-b690-5dc9cff1e9d3\">\n",
              "  <button class=\"colab-df-quickchart\" onclick=\"quickchart('df-dfac29c2-9652-46c1-b690-5dc9cff1e9d3')\"\n",
              "            title=\"Suggest charts.\"\n",
              "            style=\"display:none;\">\n",
              "\n",
              "<svg xmlns=\"http://www.w3.org/2000/svg\" height=\"24px\"viewBox=\"0 0 24 24\"\n",
              "     width=\"24px\">\n",
              "    <g>\n",
              "        <path d=\"M19 3H5c-1.1 0-2 .9-2 2v14c0 1.1.9 2 2 2h14c1.1 0 2-.9 2-2V5c0-1.1-.9-2-2-2zM9 17H7v-7h2v7zm4 0h-2V7h2v10zm4 0h-2v-4h2v4z\"/>\n",
              "    </g>\n",
              "</svg>\n",
              "  </button>\n",
              "\n",
              "<style>\n",
              "  .colab-df-quickchart {\n",
              "      --bg-color: #E8F0FE;\n",
              "      --fill-color: #1967D2;\n",
              "      --hover-bg-color: #E2EBFA;\n",
              "      --hover-fill-color: #174EA6;\n",
              "      --disabled-fill-color: #AAA;\n",
              "      --disabled-bg-color: #DDD;\n",
              "  }\n",
              "\n",
              "  [theme=dark] .colab-df-quickchart {\n",
              "      --bg-color: #3B4455;\n",
              "      --fill-color: #D2E3FC;\n",
              "      --hover-bg-color: #434B5C;\n",
              "      --hover-fill-color: #FFFFFF;\n",
              "      --disabled-bg-color: #3B4455;\n",
              "      --disabled-fill-color: #666;\n",
              "  }\n",
              "\n",
              "  .colab-df-quickchart {\n",
              "    background-color: var(--bg-color);\n",
              "    border: none;\n",
              "    border-radius: 50%;\n",
              "    cursor: pointer;\n",
              "    display: none;\n",
              "    fill: var(--fill-color);\n",
              "    height: 32px;\n",
              "    padding: 0;\n",
              "    width: 32px;\n",
              "  }\n",
              "\n",
              "  .colab-df-quickchart:hover {\n",
              "    background-color: var(--hover-bg-color);\n",
              "    box-shadow: 0 1px 2px rgba(60, 64, 67, 0.3), 0 1px 3px 1px rgba(60, 64, 67, 0.15);\n",
              "    fill: var(--button-hover-fill-color);\n",
              "  }\n",
              "\n",
              "  .colab-df-quickchart-complete:disabled,\n",
              "  .colab-df-quickchart-complete:disabled:hover {\n",
              "    background-color: var(--disabled-bg-color);\n",
              "    fill: var(--disabled-fill-color);\n",
              "    box-shadow: none;\n",
              "  }\n",
              "\n",
              "  .colab-df-spinner {\n",
              "    border: 2px solid var(--fill-color);\n",
              "    border-color: transparent;\n",
              "    border-bottom-color: var(--fill-color);\n",
              "    animation:\n",
              "      spin 1s steps(1) infinite;\n",
              "  }\n",
              "\n",
              "  @keyframes spin {\n",
              "    0% {\n",
              "      border-color: transparent;\n",
              "      border-bottom-color: var(--fill-color);\n",
              "      border-left-color: var(--fill-color);\n",
              "    }\n",
              "    20% {\n",
              "      border-color: transparent;\n",
              "      border-left-color: var(--fill-color);\n",
              "      border-top-color: var(--fill-color);\n",
              "    }\n",
              "    30% {\n",
              "      border-color: transparent;\n",
              "      border-left-color: var(--fill-color);\n",
              "      border-top-color: var(--fill-color);\n",
              "      border-right-color: var(--fill-color);\n",
              "    }\n",
              "    40% {\n",
              "      border-color: transparent;\n",
              "      border-right-color: var(--fill-color);\n",
              "      border-top-color: var(--fill-color);\n",
              "    }\n",
              "    60% {\n",
              "      border-color: transparent;\n",
              "      border-right-color: var(--fill-color);\n",
              "    }\n",
              "    80% {\n",
              "      border-color: transparent;\n",
              "      border-right-color: var(--fill-color);\n",
              "      border-bottom-color: var(--fill-color);\n",
              "    }\n",
              "    90% {\n",
              "      border-color: transparent;\n",
              "      border-bottom-color: var(--fill-color);\n",
              "    }\n",
              "  }\n",
              "</style>\n",
              "\n",
              "  <script>\n",
              "    async function quickchart(key) {\n",
              "      const quickchartButtonEl =\n",
              "        document.querySelector('#' + key + ' button');\n",
              "      quickchartButtonEl.disabled = true;  // To prevent multiple clicks.\n",
              "      quickchartButtonEl.classList.add('colab-df-spinner');\n",
              "      try {\n",
              "        const charts = await google.colab.kernel.invokeFunction(\n",
              "            'suggestCharts', [key], {});\n",
              "      } catch (error) {\n",
              "        console.error('Error during call to suggestCharts:', error);\n",
              "      }\n",
              "      quickchartButtonEl.classList.remove('colab-df-spinner');\n",
              "      quickchartButtonEl.classList.add('colab-df-quickchart-complete');\n",
              "    }\n",
              "    (() => {\n",
              "      let quickchartButtonEl =\n",
              "        document.querySelector('#df-dfac29c2-9652-46c1-b690-5dc9cff1e9d3 button');\n",
              "      quickchartButtonEl.style.display =\n",
              "        google.colab.kernel.accessAllowed ? 'block' : 'none';\n",
              "    })();\n",
              "  </script>\n",
              "</div>\n",
              "    </div>\n",
              "  </div>\n"
            ],
            "text/plain": [
              "      count       mean       std        min        25%        50%        75%  \\\n",
              "0    8000.0  -3.036464  1.436143  -8.802693  -3.965404  -3.036228  -2.089432   \n",
              "1    8000.0  -4.413765  1.263992  -9.597610  -5.260936  -4.420482  -3.555413   \n",
              "2    8000.0  -9.780853  0.962901 -13.777388 -10.420293  -9.759801  -9.128676   \n",
              "3    8000.0  -0.163787  1.346645  -5.274294  -1.064968  -0.155831   0.767186   \n",
              "4    8000.0  27.017326  1.221191  22.813808  26.178951  27.022849  27.845120   \n",
              "..      ...        ...       ...        ...        ...        ...        ...   \n",
              "315  8000.0   1.218885  0.650336  -1.727208   0.795892   1.237683   1.654064   \n",
              "316  8000.0  -3.115287  1.878448 -12.177952  -4.225558  -2.894011  -1.795393   \n",
              "317  8000.0   5.773564  1.077658   1.163040   5.035592   5.769738   6.490644   \n",
              "318  8000.0   4.442849  0.768145   1.315123   3.931367   4.450763   4.958741   \n",
              "319  8000.0  -2.655662  1.289004  -7.891884  -3.499657  -2.676507  -1.799967   \n",
              "\n",
              "           max  \n",
              "0     3.014195  \n",
              "1     0.637649  \n",
              "2    -6.078633  \n",
              "3     4.793526  \n",
              "4    31.877068  \n",
              "..         ...  \n",
              "315   3.999144  \n",
              "316   3.116571  \n",
              "317   9.987671  \n",
              "318   7.214769  \n",
              "319   3.527653  \n",
              "\n",
              "[320 rows x 8 columns]"
            ]
          },
          "execution_count": 37,
          "metadata": {},
          "output_type": "execute_result"
        }
      ],
      "source": [
        "df.describe().T"
      ]
    },
    {
      "cell_type": "code",
      "execution_count": 86,
      "metadata": {
        "id": "kupx_JcA0yq5"
      },
      "outputs": [],
      "source": [
        "# X = df.drop(['class'], axis = 1)\n",
        "# Y = df['class']\n",
        "Y = LabelEncoder().fit_transform(Y)\n",
        "X = StandardScaler().fit_transform(X)"
      ]
    },
    {
      "cell_type": "markdown",
      "metadata": {
        "id": "iABHM7ZW3gn9"
      },
      "source": [
        "### Feature length"
      ]
    },
    {
      "cell_type": "code",
      "execution_count": 39,
      "metadata": {
        "colab": {
          "base_uri": "https://localhost:8080/"
        },
        "id": "lKVNmT64Ok29",
        "outputId": "b9ac7cd8-d69b-4b73-acf7-cce91e38d418"
      },
      "outputs": [
        {
          "name": "stdout",
          "output_type": "stream",
          "text": [
            "320\n"
          ]
        }
      ],
      "source": [
        "print(len(X[0]))"
      ]
    },
    {
      "cell_type": "markdown",
      "metadata": {
        "id": "CJ4qqd_Q3ktr"
      },
      "source": [
        "### Classes"
      ]
    },
    {
      "cell_type": "code",
      "execution_count": 40,
      "metadata": {
        "colab": {
          "base_uri": "https://localhost:8080/"
        },
        "id": "XuzAHnoq1CBD",
        "outputId": "08fde046-e0c3-4ea7-cb01-a4c0be4891ae"
      },
      "outputs": [
        {
          "data": {
            "text/plain": [
              "array(['dyed-lifted-polyps', 'dyed-resection-margins', 'esophagitis',\n",
              "       'normal-cecum', 'normal-pylorus', 'normal-z-line',\n",
              "       'ulcerative-colitis', 'polyps'], dtype=object)"
            ]
          },
          "execution_count": 40,
          "metadata": {},
          "output_type": "execute_result"
        }
      ],
      "source": [
        "df[\"class\"].unique()"
      ]
    },
    {
      "cell_type": "code",
      "execution_count": 41,
      "metadata": {
        "colab": {
          "base_uri": "https://localhost:8080/"
        },
        "id": "MqA3_NG91JZ9",
        "outputId": "a75e9fbe-949d-490f-d6b3-815843f54b48"
      },
      "outputs": [
        {
          "data": {
            "text/plain": [
              "class\n",
              "dyed-lifted-polyps        1000\n",
              "dyed-resection-margins    1000\n",
              "esophagitis               1000\n",
              "normal-cecum              1000\n",
              "normal-pylorus            1000\n",
              "normal-z-line             1000\n",
              "polyps                    1000\n",
              "ulcerative-colitis        1000\n",
              "dtype: int64"
            ]
          },
          "execution_count": 41,
          "metadata": {},
          "output_type": "execute_result"
        }
      ],
      "source": [
        "df.groupby('class').size()"
      ]
    },
    {
      "cell_type": "code",
      "execution_count": 43,
      "metadata": {
        "id": "ty97fu_J33DN"
      },
      "outputs": [],
      "source": [
        "df['class'] = LabelEncoder().fit_transform(df['class'])"
      ]
    },
    {
      "cell_type": "code",
      "execution_count": 44,
      "metadata": {
        "colab": {
          "base_uri": "https://localhost:8080/",
          "height": 472
        },
        "id": "lMxZ7hjf3wtD",
        "outputId": "8b987d17-e8be-46f7-eb7a-aef3090aab56"
      },
      "outputs": [
        {
          "data": {
            "image/png": "[encoded data removed]",
            "text/plain": [
              "<Figure size 640x480 with 1 Axes>"
            ]
          },
          "metadata": {},
          "output_type": "display_data"
        }
      ],
      "source": [
        "# Group the DataFrame by 'class' and calculate the size of each group\n",
        "grouped = df.groupby('class').size()\n",
        "\n",
        "# Create a bar plot\n",
        "plt.bar(grouped.index, grouped.values)\n",
        "\n",
        "# Add labels and title\n",
        "plt.xlabel('Class')\n",
        "plt.ylabel('Count')\n",
        "plt.title('Group Sizes by Class')\n",
        "\n",
        "# Show the plot\n",
        "plt.show()"
      ]
    },
    {
      "cell_type": "markdown",
      "metadata": {
        "id": "YS0YpjhW7tLi"
      },
      "source": [
        "## Linear Discriminant Analysis (LDA)\n",
        "LDA is supervised learning dimensionality reduction technique and Machine Learning classifier.\n",
        "\n",
        "LDA aims to maximize the distance between the mean of each class and minimize the spreading within the class itself. LDA uses therefore within classes and between classes as measures. This is a good choice because maximizing the distance between the means of each class when projecting the data in a lower-dimensional space can lead to better classification results (thanks to the reduced overlap between the different classes).\n",
        "\n",
        "When using LDA, is assumed that the input data follows a Gaussian Distribution (like in this case), therefore applying LDA to not Gaussian data can possibly lead to poor classification results.\n",
        "\n",
        "In this example, we will run LDA to reduce our dataset to just one feature, test its accuracy"
      ]
    },
    {
      "cell_type": "code",
      "execution_count": 87,
      "metadata": {
        "id": "fu7Q23Vm674L"
      },
      "outputs": [],
      "source": [
        "lda = LinearDiscriminantAnalysis(n_components=7)\n",
        "\n",
        "# run an LDA and use it to transform the features\n",
        "X_lda = lda.fit(X, Y).transform(X)"
      ]
    },
    {
      "cell_type": "markdown",
      "metadata": {
        "id": "Ckm0e5AoIytK"
      },
      "source": [
        "## Split dataset into train and test"
      ]
    },
    {
      "cell_type": "code",
      "execution_count": 88,
      "metadata": {
        "id": "5kdFng8vx-qY"
      },
      "outputs": [],
      "source": [
        "X_train, X_test, y_train, y_test = train_test_split(X_lda,Y,\n",
        "                                                    test_size = 0.1,\n",
        "                                                    random_state=1984)"
      ]
    },
    {
      "cell_type": "markdown",
      "metadata": {
        "id": "j4WuPhOVI2yu"
      },
      "source": [
        "## Random forest"
      ]
    },
    {
      "cell_type": "code",
      "execution_count": 12,
      "metadata": {
        "id": "5QjCH1jc2d16"
      },
      "outputs": [],
      "source": [
        "trainedforest = RandomForestClassifier(n_estimators=700).fit(X_train,y_train)\n",
        "predictionforest = trainedforest.predict(X_test)"
      ]
    },
    {
      "cell_type": "code",
      "execution_count": 13,
      "metadata": {
        "colab": {
          "base_uri": "https://localhost:8080/"
        },
        "id": "nMQM5ys39Z0d",
        "outputId": "da08f570-e137-4293-a9d2-cce2d8e4e195"
      },
      "outputs": [
        {
          "name": "stdout",
          "output_type": "stream",
          "text": [
            "              precision    recall  f1-score   support\n",
            "\n",
            "           0       0.88      0.84      0.86       119\n",
            "           1       0.83      0.86      0.84        88\n",
            "           2       0.84      0.81      0.83       108\n",
            "           3       0.89      0.97      0.93        88\n",
            "           4       0.97      0.97      0.97        94\n",
            "           5       0.78      0.83      0.80        87\n",
            "           6       0.92      0.87      0.89       105\n",
            "           7       0.92      0.91      0.91       111\n",
            "\n",
            "    accuracy                           0.88       800\n",
            "   macro avg       0.88      0.88      0.88       800\n",
            "weighted avg       0.88      0.88      0.88       800\n",
            "\n"
          ]
        }
      ],
      "source": [
        "print(classification_report(y_test,predictionforest))"
      ]
    },
    {
      "cell_type": "code",
      "execution_count": 14,
      "metadata": {
        "colab": {
          "base_uri": "https://localhost:8080/",
          "height": 606
        },
        "id": "0JBn7p4F9gBM",
        "outputId": "cf963394-598d-417c-b48b-d1cb805e4c14"
      },
      "outputs": [
        {
          "data": {
            "image/png": "[encoded data removed]",
            "text/plain": [
              "<Figure size 1200x600 with 2 Axes>"
            ]
          },
          "metadata": {},
          "output_type": "display_data"
        }
      ],
      "source": [
        "from sklearn.metrics import confusion_matrix,accuracy_score\n",
        "con = confusion_matrix(y_test,predictionforest)\n",
        "plt.figure(figsize=(12,6))\n",
        "sns.heatmap(con,annot=True)\n",
        "plt.tight_layout()"
      ]
    },
    {
      "cell_type": "markdown",
      "metadata": {
        "id": "K-N2OzP3DIQ8"
      },
      "source": [
        "## SVM"
      ]
    },
    {
      "cell_type": "code",
      "execution_count": 89,
      "metadata": {
        "id": "z4bZH7JmyDBh"
      },
      "outputs": [],
      "source": [
        "#SVM classification\n",
        "svm = SVC()\n",
        "svm.fit(X_train, y_train)\n",
        "#predicting with svm\n",
        "svm_pred = svm.predict(X_test)\n"
      ]
    },
    {
      "cell_type": "code",
      "execution_count": 90,
      "metadata": {
        "colab": {
          "base_uri": "https://localhost:8080/"
        },
        "id": "eXpKejF1yR_4",
        "outputId": "84ddba27-2afc-49b1-df68-09d82f286885"
      },
      "outputs": [
        {
          "name": "stdout",
          "output_type": "stream",
          "text": [
            "              precision    recall  f1-score   support\n",
            "\n",
            "           0       0.87      0.85      0.86       119\n",
            "           1       0.82      0.84      0.83        88\n",
            "           2       0.85      0.76      0.80       108\n",
            "           3       0.89      0.98      0.93        88\n",
            "           4       0.97      0.98      0.97        94\n",
            "           5       0.73      0.84      0.78        87\n",
            "           6       0.92      0.89      0.90       105\n",
            "           7       0.94      0.89      0.92       111\n",
            "\n",
            "    accuracy                           0.88       800\n",
            "   macro avg       0.87      0.88      0.87       800\n",
            "weighted avg       0.88      0.88      0.88       800\n",
            "\n"
          ]
        }
      ],
      "source": [
        "from sklearn.metrics import classification_report\n",
        "print(classification_report(y_test,svm_pred))"
      ]
    },
    {
      "cell_type": "code",
      "execution_count": 92,
      "metadata": {
        "colab": {
          "base_uri": "https://localhost:8080/",
          "height": 606
        },
        "id": "s4IZakVM0tXz",
        "outputId": "ccd78bc6-eb8d-41ac-9511-c522e031a7f1"
      },
      "outputs": [
        {
          "data": {
            "image/png": "[encoded data removed]",
            "text/plain": [
              "<Figure size 1200x600 with 2 Axes>"
            ]
          },
          "metadata": {},
          "output_type": "display_data"
        }
      ],
      "source": [
        "from sklearn.metrics import confusion_matrix,accuracy_score\n",
        "con = confusion_matrix(y_test,svm_pred)\n",
        "plt.figure(figsize=(12,6))\n",
        "sns.heatmap(con,annot=True)\n",
        "plt.tight_layout()"
      ]
    },
    {
      "cell_type": "code",
      "execution_count": 91,
      "metadata": {
        "colab": {
          "base_uri": "https://localhost:8080/"
        },
        "id": "dxhehyI61mOQ",
        "outputId": "bd6f2c64-6f78-4e14-eda1-2d9822056543"
      },
      "outputs": [
        {
          "name": "stdout",
          "output_type": "stream",
          "text": [
            "The Accuracy is :0.875\n"
          ]
        }
      ],
      "source": [
        "svm_acc = accuracy_score(y_test,svm_pred)\n",
        "print(f\"The Accuracy is :{svm_acc}\")"
      ]
    },
    {
      "cell_type": "markdown",
      "metadata": {
        "id": "3BLIuCU9DaV7"
      },
      "source": [
        "## KNN"
      ]
    },
    {
      "cell_type": "code",
      "execution_count": 72,
      "metadata": {
        "colab": {
          "base_uri": "https://localhost:8080/"
        },
        "id": "l4_vKUmn0v60",
        "outputId": "3a56decf-eed0-4063-d054-6d0ae1e27936"
      },
      "outputs": [
        {
          "name": "stdout",
          "output_type": "stream",
          "text": [
            "Best value of hyperparameter k: 5\n"
          ]
        }
      ],
      "source": [
        "#Find the best value of hyperparameter\n",
        "r = 0\n",
        "i = 1\n",
        "k = 1\n",
        "while i <= math.sqrt(df.shape[0]):\n",
        "    knn= KNeighborsClassifier(i, weights='distance', algorithm='auto' , leaf_size= 20, metric= 'minkowski')\n",
        "    knn.fit(X_train, y_train)\n",
        "    y_pred_knn=knn.predict(X_test)\n",
        "    r2 = accuracy_score(y_test,y_pred_knn)\n",
        "    if r2 > r:\n",
        "        r = r2\n",
        "        k = i\n",
        "    i += 1\n",
        "\n",
        "if(k%2 == 0):\n",
        "    k=k+1\n",
        "\n",
        "print(\"Best value of hyperparameter k:\", k)"
      ]
    },
    {
      "cell_type": "code",
      "execution_count": 18,
      "metadata": {
        "id": "V66mJVaK1UZW"
      },
      "outputs": [],
      "source": [
        "knn = KNeighborsClassifier(5, weights='distance', algorithm='auto', leaf_size= 20, metric= 'minkowski')\n",
        "knn.fit(X_train, y_train)\n",
        "\n",
        "y_pred_knn=knn.predict(X_test)"
      ]
    },
    {
      "cell_type": "code",
      "execution_count": 21,
      "metadata": {
        "colab": {
          "base_uri": "https://localhost:8080/"
        },
        "id": "wxR-Y_kx2C24",
        "outputId": "dc048711-2997-499d-ff3a-72856555c277"
      },
      "outputs": [
        {
          "name": "stdout",
          "output_type": "stream",
          "text": [
            "              precision    recall  f1-score   support\n",
            "\n",
            "           0       0.83      0.82      0.83       119\n",
            "           1       0.79      0.78      0.79        88\n",
            "           2       0.85      0.74      0.79       108\n",
            "           3       0.88      0.99      0.93        88\n",
            "           4       0.97      0.98      0.97        94\n",
            "           5       0.72      0.84      0.77        87\n",
            "           6       0.92      0.88      0.90       105\n",
            "           7       0.92      0.87      0.90       111\n",
            "\n",
            "    accuracy                           0.86       800\n",
            "   macro avg       0.86      0.86      0.86       800\n",
            "weighted avg       0.86      0.86      0.86       800\n",
            "\n"
          ]
        }
      ],
      "source": [
        "print(classification_report(y_test,y_pred_knn))"
      ]
    },
    {
      "cell_type": "code",
      "execution_count": 19,
      "metadata": {
        "colab": {
          "base_uri": "https://localhost:8080/",
          "height": 607
        },
        "id": "xxLRsMUt1aol",
        "outputId": "b8e1326a-04fe-4dd6-c8ef-b0c15b6adaf8"
      },
      "outputs": [
        {
          "data": {
            "image/png": "[encoded data removed]",
            "text/plain": [
              "<Figure size 1200x600 with 2 Axes>"
            ]
          },
          "metadata": {},
          "output_type": "display_data"
        }
      ],
      "source": [
        "from sklearn.metrics import confusion_matrix,accuracy_score\n",
        "con = confusion_matrix(y_test,y_pred_knn)\n",
        "plt.figure(figsize=(12,6))\n",
        "sns.heatmap(con,annot=True)\n",
        "plt.tight_layout()"
      ]
    },
    {
      "cell_type": "code",
      "execution_count": 20,
      "metadata": {
        "colab": {
          "base_uri": "https://localhost:8080/"
        },
        "id": "J5kt7C8W1dlB",
        "outputId": "c6e74d4c-78de-42cd-a799-117e05cdc1e3"
      },
      "outputs": [
        {
          "name": "stdout",
          "output_type": "stream",
          "text": [
            "The Accuracy is :0.86\n"
          ]
        }
      ],
      "source": [
        "knn_acc = accuracy_score(y_test,y_pred_knn)\n",
        "print(f\"The Accuracy is :{knn_acc}\")\n"
      ]
    },
    {
      "cell_type": "markdown",
      "metadata": {
        "id": "lEGGl8pbDdI9"
      },
      "source": [
        "## AdaBoost"
      ]
    },
    {
      "cell_type": "code",
      "execution_count": 22,
      "metadata": {
        "id": "JpJHQe921gx8"
      },
      "outputs": [],
      "source": [
        "from sklearn.ensemble import AdaBoostClassifier\n",
        "\n",
        "# Create the AdaBoost regression model\n",
        "adaboost_model = AdaBoostClassifier(random_state=42)\n",
        "\n",
        "# Define the hyperparameter grid for GridSearchCV\n",
        "param_grid = {\n",
        "    'n_estimators': [50, 100, 150],\n",
        "    'learning_rate': [0.01, 0.1, 0.5, 1.0]\n",
        "}\n",
        "\n",
        "# Create the GridSearchCV object with cross-validation\n",
        "grid_search = GridSearchCV(adaboost_model, param_grid, cv=5)\n",
        "\n",
        "# Fit the GridSearchCV to the training data\n",
        "grid_search.fit(X_train, y_train)\n",
        "\n",
        "# Get the best hyperparameters from the GridSearchCV\n",
        "best_params = grid_search.best_params_\n",
        "\n",
        "# Create the final AdaBoost model with the best hyperparameters\n",
        "final_adaboost_model = AdaBoostClassifier(random_state=42, **best_params)\n",
        "\n",
        "# Fit the final model to the training data\n",
        "final_adaboost_model.fit(X_train, y_train)\n",
        "\n",
        "# Make predictions on the test set\n",
        "adaboost_pred = final_adaboost_model.predict(X_test)"
      ]
    },
    {
      "cell_type": "code",
      "execution_count": 23,
      "metadata": {
        "colab": {
          "base_uri": "https://localhost:8080/"
        },
        "id": "HvrNmegh1wGC",
        "outputId": "6929c552-665f-41fc-e6eb-13043ce5c905"
      },
      "outputs": [
        {
          "name": "stdout",
          "output_type": "stream",
          "text": [
            "              precision    recall  f1-score   support\n",
            "\n",
            "           0       0.91      0.41      0.57       119\n",
            "           1       0.55      0.95      0.70        88\n",
            "           2       0.58      0.92      0.71       108\n",
            "           3       0.91      0.81      0.86        88\n",
            "           4       0.86      0.95      0.90        94\n",
            "           5       0.88      0.17      0.29        87\n",
            "           6       0.95      0.78      0.86       105\n",
            "           7       0.78      0.96      0.86       111\n",
            "\n",
            "    accuracy                           0.74       800\n",
            "   macro avg       0.80      0.74      0.72       800\n",
            "weighted avg       0.80      0.74      0.72       800\n",
            "\n"
          ]
        }
      ],
      "source": [
        "print(classification_report(y_test,adaboost_pred))"
      ]
    },
    {
      "cell_type": "code",
      "execution_count": 24,
      "metadata": {
        "colab": {
          "base_uri": "https://localhost:8080/",
          "height": 607
        },
        "id": "F6SK76KB7AHW",
        "outputId": "a671e9a1-7e2a-4e4f-9009-4a61cf892345"
      },
      "outputs": [
        {
          "data": {
            "image/png": "[encoded data removed]",
            "text/plain": [
              "<Figure size 1200x600 with 2 Axes>"
            ]
          },
          "metadata": {},
          "output_type": "display_data"
        }
      ],
      "source": [
        "from sklearn.metrics import confusion_matrix,accuracy_score\n",
        "con = confusion_matrix(y_test,adaboost_pred)\n",
        "plt.figure(figsize=(12,6))\n",
        "sns.heatmap(con,annot=True)\n",
        "plt.tight_layout()"
      ]
    },
    {
      "cell_type": "code",
      "execution_count": 25,
      "metadata": {
        "colab": {
          "base_uri": "https://localhost:8080/"
        },
        "id": "p8clb4FM1whq",
        "outputId": "ee8486e1-a2ea-44ed-e035-aead60bc7d89"
      },
      "outputs": [
        {
          "name": "stdout",
          "output_type": "stream",
          "text": [
            "The Accuracy is :0.745\n"
          ]
        }
      ],
      "source": [
        "adaboost_acc = accuracy_score(y_test,adaboost_pred)\n",
        "print(f\"The Accuracy is :{adaboost_acc}\")"
      ]
    },
    {
      "cell_type": "markdown",
      "metadata": {
        "id": "lH8qQsoNDgwH"
      },
      "source": [
        "## LightGBM"
      ]
    },
    {
      "cell_type": "code",
      "execution_count": 93,
      "metadata": {
        "colab": {
          "base_uri": "https://localhost:8080/"
        },
        "id": "CwKFicN8659O",
        "outputId": "fb9a3b58-79e3-4bbc-bdad-860438f63822"
      },
      "outputs": [
        {
          "name": "stdout",
          "output_type": "stream",
          "text": [
            "[LightGBM] [Warning] Auto-choosing col-wise multi-threading, the overhead of testing was 0.000577 seconds.\n",
            "You can set `force_col_wise=true` to remove the overhead.\n",
            "[LightGBM] [Info] Total Bins 1785\n",
            "[LightGBM] [Info] Number of data points in the train set: 7200, number of used features: 7\n",
            "[LightGBM] [Info] Start training from score -2.100779\n",
            "[LightGBM] [Info] Start training from score -2.066196\n",
            "[LightGBM] [Info] Start training from score -2.088370\n",
            "[LightGBM] [Info] Start training from score -2.066196\n",
            "[LightGBM] [Info] Start training from score -2.072797\n",
            "[LightGBM] [Info] Start training from score -2.065100\n",
            "[LightGBM] [Info] Start training from score -2.085013\n",
            "[LightGBM] [Info] Start training from score -2.091739\n",
            "[LightGBM] [Warning] No further splits with positive gain, best gain: -inf\n"
          ]
        }
      ],
      "source": [
        "from lightgbm import LGBMClassifier\n",
        "lgm = LGBMClassifier(random_state=42)\n",
        "lgm.fit(X_train, y_train)\n",
        "\n",
        "lgm_pred = lgm.predict(X_test)"
      ]
    },
    {
      "cell_type": "code",
      "execution_count": 94,
      "metadata": {
        "colab": {
          "base_uri": "https://localhost:8080/"
        },
        "id": "ksQAp6VM-eTr",
        "outputId": "cd3b1d72-9b06-43e8-9d7a-126a069a0d5e"
      },
      "outputs": [
        {
          "name": "stdout",
          "output_type": "stream",
          "text": [
            "              precision    recall  f1-score   support\n",
            "\n",
            "           0       0.90      0.87      0.89       119\n",
            "           1       0.86      0.88      0.87        88\n",
            "           2       0.80      0.82      0.81       108\n",
            "           3       0.89      0.94      0.92        88\n",
            "           4       0.98      0.97      0.97        94\n",
            "           5       0.78      0.77      0.77        87\n",
            "           6       0.90      0.89      0.89       105\n",
            "           7       0.92      0.89      0.90       111\n",
            "\n",
            "    accuracy                           0.88       800\n",
            "   macro avg       0.88      0.88      0.88       800\n",
            "weighted avg       0.88      0.88      0.88       800\n",
            "\n"
          ]
        }
      ],
      "source": [
        "print(classification_report(y_test,lgm_pred))"
      ]
    },
    {
      "cell_type": "code",
      "execution_count": 95,
      "metadata": {
        "colab": {
          "base_uri": "https://localhost:8080/",
          "height": 607
        },
        "id": "z3_Irfg7-71u",
        "outputId": "a4bc21bd-718e-46f3-d1c7-d5793f94d2d1"
      },
      "outputs": [
        {
          "data": {
            "image/png": "[encoded data removed]",
            "text/plain": [
              "<Figure size 1200x600 with 2 Axes>"
            ]
          },
          "metadata": {},
          "output_type": "display_data"
        }
      ],
      "source": [
        "from sklearn.metrics import confusion_matrix,accuracy_score\n",
        "con = confusion_matrix(y_test,lgm_pred)\n",
        "plt.figure(figsize=(12,6))\n",
        "sns.heatmap(con,annot=True)\n",
        "plt.tight_layout()"
      ]
    },
    {
      "cell_type": "code",
      "execution_count": 96,
      "metadata": {
        "colab": {
          "base_uri": "https://localhost:8080/"
        },
        "id": "shSL8z9lJBOa",
        "outputId": "4a778d87-7ee9-4cf1-e50b-b42d6d3e51c4"
      },
      "outputs": [
        {
          "name": "stdout",
          "output_type": "stream",
          "text": [
            "The Accuracy is :0.87875\n"
          ]
        }
      ],
      "source": [
        "lgm_acc = accuracy_score(y_test,lgm_pred)\n",
        "print(f\"The Accuracy is :{lgm_acc}\")"
      ]
    },
    {
      "cell_type": "markdown",
      "metadata": {
        "id": "lT6KTTo3JeNt"
      },
      "source": [
        "# Concatenate model features"
      ]
    },
    {
      "cell_type": "markdown",
      "metadata": {
        "id": "AkiGfxeyJmwU"
      },
      "source": [
        "## EDA"
      ]
    },
    {
      "cell_type": "code",
      "execution_count": 52,
      "metadata": {
        "colab": {
          "base_uri": "https://localhost:8080/"
        },
        "id": "Iqc18O67P9IC",
        "outputId": "63f851a1-eeaf-437e-8eec-f650047e4a0d"
      },
      "outputs": [
        {
          "data": {
            "text/plain": [
              "(8000, 2048)"
            ]
          },
          "execution_count": 52,
          "metadata": {},
          "output_type": "execute_result"
        }
      ],
      "source": [
        "features1 = feature_dict_rifat['features']\n",
        "features1.shape"
      ]
    },
    {
      "cell_type": "code",
      "execution_count": 53,
      "metadata": {
        "colab": {
          "base_uri": "https://localhost:8080/"
        },
        "id": "pOlFY504QhMy",
        "outputId": "21f88104-2b93-4b62-f808-40480bc1921e"
      },
      "outputs": [
        {
          "name": "stdout",
          "output_type": "stream",
          "text": [
            "(8000, 768)\n"
          ]
        }
      ],
      "source": [
        "features2 = feature_dict_gaju['features'].numpy()\n",
        "print(features2.shape)"
      ]
    },
    {
      "cell_type": "code",
      "execution_count": 54,
      "metadata": {
        "colab": {
          "base_uri": "https://localhost:8080/"
        },
        "id": "-0t3ZiLP6PNB",
        "outputId": "6347023b-d110-4e36-be92-15fdaee76d20"
      },
      "outputs": [
        {
          "data": {
            "text/plain": [
              "(8000, 320)"
            ]
          },
          "execution_count": 54,
          "metadata": {},
          "output_type": "execute_result"
        }
      ],
      "source": [
        "features3 = feature_dict['features']\n",
        "features3 = np.array(features3)\n",
        "features3.shape"
      ]
    },
    {
      "cell_type": "code",
      "execution_count": 55,
      "metadata": {
        "id": "QHBFWvFF8CgS"
      },
      "outputs": [],
      "source": [
        "concatenated_features = np.concatenate((features1, features2, features3), axis=1)"
      ]
    },
    {
      "cell_type": "code",
      "execution_count": 56,
      "metadata": {
        "colab": {
          "base_uri": "https://localhost:8080/"
        },
        "id": "Y9U7C61C6gK4",
        "outputId": "3ac4090f-e98f-4392-d5cf-74b366207b28"
      },
      "outputs": [
        {
          "name": "stdout",
          "output_type": "stream",
          "text": [
            "(8000, 3136)\n"
          ]
        }
      ],
      "source": [
        "print(concatenated_features.shape)"
      ]
    },
    {
      "cell_type": "code",
      "execution_count": 57,
      "metadata": {
        "id": "dUbLcisr-Dan"
      },
      "outputs": [],
      "source": [
        "X = concatenated_features\n",
        "Y = feature_dict['label']\n",
        "Y = LabelEncoder().fit_transform(Y)\n",
        "X = StandardScaler().fit_transform(X)"
      ]
    },
    {
      "cell_type": "markdown",
      "metadata": {
        "id": "-r736G2DJ0IA"
      },
      "source": [
        "## LDA"
      ]
    },
    {
      "cell_type": "code",
      "execution_count": 58,
      "metadata": {
        "id": "XFgTMthe_pN6"
      },
      "outputs": [],
      "source": [
        "lda = LinearDiscriminantAnalysis(n_components=7)\n",
        "\n",
        "# run an LDA and use it to transform the features\n",
        "X_lda = lda.fit(X, Y).transform(X)\n"
      ]
    },
    {
      "cell_type": "markdown",
      "metadata": {
        "id": "g0z8dNi2J1tr"
      },
      "source": [
        "## Split dataset into train and test"
      ]
    },
    {
      "cell_type": "code",
      "execution_count": 59,
      "metadata": {
        "id": "NY20W2PuB1Wo"
      },
      "outputs": [],
      "source": [
        "X_train, X_test, y_train, y_test = train_test_split(X_lda,Y,\n",
        "                                                    test_size = 0.1,\n",
        "                                                    random_state=1984)"
      ]
    },
    {
      "cell_type": "markdown",
      "metadata": {
        "id": "rGSMnLQ7J5vY"
      },
      "source": [
        "## Random forest"
      ]
    },
    {
      "cell_type": "code",
      "execution_count": 60,
      "metadata": {
        "id": "XmSBIsS5CRUs"
      },
      "outputs": [],
      "source": [
        "trainedforest = RandomForestClassifier(n_estimators=700).fit(X_train,y_train)\n",
        "predictionforest = trainedforest.predict(X_test)"
      ]
    },
    {
      "cell_type": "code",
      "execution_count": 61,
      "metadata": {
        "colab": {
          "base_uri": "https://localhost:8080/",
          "height": 867
        },
        "id": "oDgSUU9FCZRN",
        "outputId": "e3e2a0a2-5a6b-46c7-da0c-c183d58e2bda"
      },
      "outputs": [
        {
          "name": "stdout",
          "output_type": "stream",
          "text": [
            "              precision    recall  f1-score   support\n",
            "\n",
            "           0       1.00      1.00      1.00       119\n",
            "           1       1.00      1.00      1.00        88\n",
            "           2       0.99      0.98      0.99       108\n",
            "           3       1.00      1.00      1.00        88\n",
            "           4       1.00      1.00      1.00        94\n",
            "           5       0.98      0.99      0.98        87\n",
            "           6       1.00      1.00      1.00       105\n",
            "           7       1.00      1.00      1.00       111\n",
            "\n",
            "    accuracy                           1.00       800\n",
            "   macro avg       1.00      1.00      1.00       800\n",
            "weighted avg       1.00      1.00      1.00       800\n",
            "\n"
          ]
        },
        {
          "data": {
            "image/png": "[encoded data removed]",
            "text/plain": [
              "<Figure size 1200x600 with 2 Axes>"
            ]
          },
          "metadata": {},
          "output_type": "display_data"
        }
      ],
      "source": [
        "from sklearn.metrics import confusion_matrix,accuracy_score\n",
        "con = confusion_matrix(y_test,predictionforest)\n",
        "plt.figure(figsize=(12,6))\n",
        "sns.heatmap(con,annot=True)\n",
        "plt.tight_layout()\n",
        "print(classification_report(y_test,predictionforest))"
      ]
    },
    {
      "cell_type": "code",
      "execution_count": 77,
      "metadata": {
        "colab": {
          "base_uri": "https://localhost:8080/"
        },
        "id": "DWIP0W1bKRb5",
        "outputId": "1f8a5bbe-9958-492d-9433-d726d9ac8ccb"
      },
      "outputs": [
        {
          "name": "stdout",
          "output_type": "stream",
          "text": [
            "The Accuracy is :0.99625\n"
          ]
        }
      ],
      "source": [
        "rf_acc = accuracy_score(y_test,predictionforest)\n",
        "print(f\"The Accuracy is :{rf_acc}\")"
      ]
    },
    {
      "cell_type": "markdown",
      "metadata": {
        "id": "sdQ53SiIDuwL"
      },
      "source": [
        "## SVM"
      ]
    },
    {
      "cell_type": "code",
      "execution_count": 62,
      "metadata": {
        "id": "B8JegwI5DuwL"
      },
      "outputs": [],
      "source": [
        "#SVM classification\n",
        "svm = SVC()\n",
        "svm.fit(X_train, y_train)\n",
        "#predicting with svm\n",
        "svm_pred = svm.predict(X_test)\n"
      ]
    },
    {
      "cell_type": "code",
      "execution_count": 63,
      "metadata": {
        "colab": {
          "base_uri": "https://localhost:8080/"
        },
        "id": "T8pN7UsuDuwL",
        "outputId": "7b330696-aa40-43d6-80fe-45dded848544"
      },
      "outputs": [
        {
          "name": "stdout",
          "output_type": "stream",
          "text": [
            "              precision    recall  f1-score   support\n",
            "\n",
            "           0       1.00      1.00      1.00       119\n",
            "           1       1.00      1.00      1.00        88\n",
            "           2       0.98      0.99      0.99       108\n",
            "           3       1.00      1.00      1.00        88\n",
            "           4       1.00      1.00      1.00        94\n",
            "           5       0.99      0.98      0.98        87\n",
            "           6       1.00      1.00      1.00       105\n",
            "           7       1.00      1.00      1.00       111\n",
            "\n",
            "    accuracy                           1.00       800\n",
            "   macro avg       1.00      1.00      1.00       800\n",
            "weighted avg       1.00      1.00      1.00       800\n",
            "\n"
          ]
        }
      ],
      "source": [
        "from sklearn.metrics import classification_report\n",
        "print(classification_report(y_test,svm_pred))"
      ]
    },
    {
      "cell_type": "code",
      "execution_count": 64,
      "metadata": {
        "colab": {
          "base_uri": "https://localhost:8080/",
          "height": 607
        },
        "id": "bUtaRvknDuwL",
        "outputId": "097df019-23d8-4e10-c0ea-77ea0fe249c0"
      },
      "outputs": [
        {
          "data": {
            "image/png": "[encoded data removed]",
            "text/plain": [
              "<Figure size 1200x600 with 2 Axes>"
            ]
          },
          "metadata": {},
          "output_type": "display_data"
        }
      ],
      "source": [
        "from sklearn.metrics import confusion_matrix,accuracy_score\n",
        "con = confusion_matrix(y_test,svm_pred)\n",
        "plt.figure(figsize=(12,6))\n",
        "sns.heatmap(con,annot=True)\n",
        "plt.tight_layout()"
      ]
    },
    {
      "cell_type": "code",
      "execution_count": 65,
      "metadata": {
        "colab": {
          "base_uri": "https://localhost:8080/"
        },
        "id": "93NfqO6YDuwM",
        "outputId": "14dee0a0-16d8-439f-85e2-dee5e9c47bec"
      },
      "outputs": [
        {
          "name": "stdout",
          "output_type": "stream",
          "text": [
            "The Accuracy is :0.99625\n"
          ]
        }
      ],
      "source": [
        "svm_acc = accuracy_score(y_test,svm_pred)\n",
        "print(f\"The Accuracy is :{svm_acc}\")"
      ]
    },
    {
      "cell_type": "markdown",
      "metadata": {
        "id": "9xskzb5KDuwM"
      },
      "source": [
        "## KNN"
      ]
    },
    {
      "cell_type": "code",
      "execution_count": 66,
      "metadata": {
        "id": "JVKEPw1eDuwM"
      },
      "outputs": [],
      "source": [
        "knn = KNeighborsClassifier(5, weights='distance', algorithm='auto', leaf_size= 20, metric= 'minkowski')\n",
        "knn.fit(X_train, y_train)\n",
        "\n",
        "y_pred_knn=knn.predict(X_test)"
      ]
    },
    {
      "cell_type": "code",
      "execution_count": 67,
      "metadata": {
        "colab": {
          "base_uri": "https://localhost:8080/",
          "height": 607
        },
        "id": "xiE01i72DuwM",
        "outputId": "ad5ff209-4a0f-4432-da42-ba7d12334ce2"
      },
      "outputs": [
        {
          "data": {
            "image/png": "[encoded data removed]",
            "text/plain": [
              "<Figure size 1200x600 with 2 Axes>"
            ]
          },
          "metadata": {},
          "output_type": "display_data"
        }
      ],
      "source": [
        "from sklearn.metrics import confusion_matrix,accuracy_score\n",
        "con = confusion_matrix(y_test,y_pred_knn)\n",
        "plt.figure(figsize=(12,6))\n",
        "sns.heatmap(con,annot=True)\n",
        "plt.tight_layout()"
      ]
    },
    {
      "cell_type": "code",
      "execution_count": 68,
      "metadata": {
        "colab": {
          "base_uri": "https://localhost:8080/"
        },
        "id": "NiOnTsr0DuwM",
        "outputId": "e5bb682f-c17f-4df9-d2a9-6c73b1dc6bd1"
      },
      "outputs": [
        {
          "name": "stdout",
          "output_type": "stream",
          "text": [
            "The Accuracy is :0.99625\n"
          ]
        }
      ],
      "source": [
        "knn_acc = accuracy_score(y_test,y_pred_knn)\n",
        "print(f\"The Accuracy is :{knn_acc}\")\n"
      ]
    },
    {
      "cell_type": "markdown",
      "metadata": {
        "id": "4hgH-aQADuwM"
      },
      "source": [
        "## AdaBoost"
      ]
    },
    {
      "cell_type": "code",
      "execution_count": 69,
      "metadata": {
        "id": "_DJgVgYvDuwM"
      },
      "outputs": [],
      "source": [
        "from sklearn.ensemble import AdaBoostClassifier\n",
        "\n",
        "# Create the AdaBoost regression model\n",
        "adaboost_model = AdaBoostClassifier(random_state=42)\n",
        "\n",
        "# Define the hyperparameter grid for GridSearchCV\n",
        "param_grid = {\n",
        "    'n_estimators': [50, 100, 150],\n",
        "    'learning_rate': [0.01, 0.1, 0.5, 1.0]\n",
        "}\n",
        "\n",
        "# Create the GridSearchCV object with cross-validation\n",
        "grid_search = GridSearchCV(adaboost_model, param_grid, cv=5)\n",
        "\n",
        "# Fit the GridSearchCV to the training data\n",
        "grid_search.fit(X_train, y_train)\n",
        "\n",
        "# Get the best hyperparameters from the GridSearchCV\n",
        "best_params = grid_search.best_params_\n",
        "\n",
        "# Create the final AdaBoost model with the best hyperparameters\n",
        "final_adaboost_model = AdaBoostClassifier(random_state=42, **best_params)\n",
        "\n",
        "# Fit the final model to the training data\n",
        "final_adaboost_model.fit(X_train, y_train)\n",
        "\n",
        "# Make predictions on the test set\n",
        "adaboost_pred = final_adaboost_model.predict(X_test)"
      ]
    },
    {
      "cell_type": "code",
      "execution_count": 70,
      "metadata": {
        "colab": {
          "base_uri": "https://localhost:8080/"
        },
        "id": "w_aI6FntDuwM",
        "outputId": "1490c4ca-c772-4a84-9939-b42f8c1704e7"
      },
      "outputs": [
        {
          "name": "stdout",
          "output_type": "stream",
          "text": [
            "              precision    recall  f1-score   support\n",
            "\n",
            "           0       1.00      1.00      1.00       119\n",
            "           1       1.00      1.00      1.00        88\n",
            "           2       0.96      0.99      0.98       108\n",
            "           3       1.00      1.00      1.00        88\n",
            "           4       0.99      1.00      0.99        94\n",
            "           5       0.99      0.95      0.97        87\n",
            "           6       1.00      1.00      1.00       105\n",
            "           7       1.00      0.99      1.00       111\n",
            "\n",
            "    accuracy                           0.99       800\n",
            "   macro avg       0.99      0.99      0.99       800\n",
            "weighted avg       0.99      0.99      0.99       800\n",
            "\n"
          ]
        }
      ],
      "source": [
        "print(classification_report(y_test,adaboost_pred))"
      ]
    },
    {
      "cell_type": "code",
      "execution_count": 71,
      "metadata": {
        "colab": {
          "base_uri": "https://localhost:8080/",
          "height": 607
        },
        "id": "oZ0006W7DuwM",
        "outputId": "050a0cd2-eac6-43a3-fc10-c2c961cf4c14"
      },
      "outputs": [
        {
          "data": {
            "image/png": "[encoded data removed]",
            "text/plain": [
              "<Figure size 1200x600 with 2 Axes>"
            ]
          },
          "metadata": {},
          "output_type": "display_data"
        }
      ],
      "source": [
        "from sklearn.metrics import confusion_matrix,accuracy_score\n",
        "con = confusion_matrix(y_test,adaboost_pred)\n",
        "plt.figure(figsize=(12,6))\n",
        "sns.heatmap(con,annot=True)\n",
        "plt.tight_layout()"
      ]
    },
    {
      "cell_type": "code",
      "execution_count": 72,
      "metadata": {
        "colab": {
          "base_uri": "https://localhost:8080/"
        },
        "id": "yzuFFrkTDuwM",
        "outputId": "f5f240d7-83d4-4873-aa2e-b7a0c1c85e50"
      },
      "outputs": [
        {
          "name": "stdout",
          "output_type": "stream",
          "text": [
            "The Accuracy is :0.9925\n"
          ]
        }
      ],
      "source": [
        "adaboost_acc = accuracy_score(y_test,adaboost_pred)\n",
        "print(f\"The Accuracy is :{adaboost_acc}\")"
      ]
    },
    {
      "cell_type": "markdown",
      "metadata": {
        "id": "aL48mwuYDuwM"
      },
      "source": [
        "## LightGBM"
      ]
    },
    {
      "cell_type": "code",
      "execution_count": null,
      "metadata": {
        "id": "THfRiK1RDuwM"
      },
      "outputs": [],
      "source": [
        "from lightgbm import LGBMClassifier\n",
        "lgm = LGBMClassifier(random_state=42)\n",
        "lgm.fit(X_train, y_train)\n",
        "\n",
        "lgm_pred = lgm.predict(X_test)"
      ]
    },
    {
      "cell_type": "code",
      "execution_count": 74,
      "metadata": {
        "colab": {
          "base_uri": "https://localhost:8080/"
        },
        "id": "52-dv5bMDuwM",
        "outputId": "231b3e38-592c-4120-e513-3dfb388c458f"
      },
      "outputs": [
        {
          "name": "stdout",
          "output_type": "stream",
          "text": [
            "              precision    recall  f1-score   support\n",
            "\n",
            "           0       1.00      1.00      1.00       119\n",
            "           1       1.00      1.00      1.00        88\n",
            "           2       0.99      0.98      0.99       108\n",
            "           3       1.00      1.00      1.00        88\n",
            "           4       1.00      1.00      1.00        94\n",
            "           5       0.98      0.99      0.98        87\n",
            "           6       1.00      1.00      1.00       105\n",
            "           7       1.00      1.00      1.00       111\n",
            "\n",
            "    accuracy                           1.00       800\n",
            "   macro avg       1.00      1.00      1.00       800\n",
            "weighted avg       1.00      1.00      1.00       800\n",
            "\n"
          ]
        }
      ],
      "source": [
        "print(classification_report(y_test,lgm_pred))"
      ]
    },
    {
      "cell_type": "code",
      "execution_count": 75,
      "metadata": {
        "colab": {
          "base_uri": "https://localhost:8080/",
          "height": 607
        },
        "id": "pfHCyssyDuwM",
        "outputId": "8b8b3576-c8ef-46a1-cdc4-13f9e5fdf023"
      },
      "outputs": [
        {
          "data": {
            "image/png": "[encoded data removed]",
            "text/plain": [
              "<Figure size 1200x600 with 2 Axes>"
            ]
          },
          "metadata": {},
          "output_type": "display_data"
        }
      ],
      "source": [
        "from sklearn.metrics import confusion_matrix,accuracy_score\n",
        "con = confusion_matrix(y_test,lgm_pred)\n",
        "plt.figure(figsize=(12,6))\n",
        "sns.heatmap(con,annot=True)\n",
        "plt.tight_layout()"
      ]
    },
    {
      "cell_type": "markdown",
      "metadata": {},
      "source": [
        "# Feature Extraction and Classification\n",
        "\n",
        "In this feature extraction and classification task, we leverage a pre-trained EfficientViT (Vision Transformer) model in PyTorch to extract image features and reduce their dimensionality. The goal is to demonstrate the process of utilizing a deep learning model for feature extraction and subsequently applying various machine learning classifiers to achieve image classification. This approach can be valuable for a wide range of downstream applications, including image recognition, object detection, and content-based image retrieval.\n",
        "\n",
        "## Model Selection\n",
        "\n",
        "I utilize the 'efficientvit_m3' model architecture from the Timm library, a collection of pre-trained models for PyTorch. The chosen model is loaded without the final classification head, effectively turning it into a feature extractor.\n",
        "\n",
        "## Checkpoint Loading\n",
        "\n",
        "A pre-trained model checkpoint is loaded from the specified file path. This checkpoint likely contains the weights and parameters of a model that has been trained for image classification.\n",
        "\n",
        "## Image Feature Extraction\n",
        "\n",
        "The code then loops through a directory containing images, loading each image one by one. For each image:\n",
        "\n",
        "1. The image is preprocessed using the same transformation used during training. This typically includes resizing and normalization.\n",
        "\n",
        "2. A forward pass is made through the EfficientViT model. This results in a set of features for the image.\n",
        "\n",
        "3. The features are flattened into a one-dimensional tensor.\n",
        "\n",
        "4. A linear layer is added to further reduce the dimensionality of the features to 2600 dimensions.\n",
        "\n",
        "5. The features are converted to a NumPy array.\n",
        "\n",
        "6. The class label (inferred from the subdirectory of the image) is appended to the end of the feature array.\n",
        "\n",
        "7. The image filename is used as a unique identifier, and the feature array is stored in a dictionary with the filename as the key.\n",
        "\n",
        "## Feature Transformation with LDA\n",
        "\n",
        "1. Feature Extraction: Features are extracted from images using a pre-trained model and flattened.\n",
        "\n",
        "2. Data Preparation: Extracted features are converted into a DataFrame for further processing.\n",
        "\n",
        "3. Label Encoding: Class labels are encoded for classification.\n",
        "\n",
        "4. Standardization: Feature values are standardized to have zero mean and unit variance.\n",
        "\n",
        "5. Linear Discriminant Analysis (LDA): LDA is applied to reduce feature dimensionality to 7 components.\n",
        "\n",
        "## Classification\n",
        "For image classification, we employ several machine learning classifiers on two types of features: EfficientViTM3 features and concatenated model features. Here are the results for each classifie\n",
        "\n",
        "## Classification for EfficientViTM3 features\n",
        "\n",
        "\n",
        "| Model                       | Accuracy   |\n",
        "|-----------------------------|------------|\n",
        "| Random Forest               | 0.88      |\n",
        "| LightGBM                    | 0.88      |\n",
        "| Support Vector Machine(SVM)| 0.875    |\n",
        "| k-Nearest Neighbors(KNN)  | 0.86   |\n",
        "| Adaboost                    | 0.745      |\n",
        "\n",
        "## Classification for Concatenate model features\n",
        "\n",
        "\n",
        "| Model                       | Accuracy   |\n",
        "|-----------------------------|------------|\n",
        "| Random Forest               | 0.99625      |\n",
        "| Support Vector Machine(SVM)| 0.99625    |\n",
        "| k-Nearest Neighbors(KNN)  | 0.99625   |\n",
        "| LightGBM                    | 0.99625      |\n",
        "| Adaboost                    | 0.9925      |\n",
        "\n",
        "## Conclusion\n",
        "In this task, we demonstrated the process of utilizing a pre-trained EfficientViT model for image feature extraction, dimensionality reduction with LDA, and image classification using various machine learning classifiers. The results showed that the concatenated model features significantly outperformed the EfficientViTM3 features across all classifiers, indicating the effectiveness of the feature transformation process.\n",
        "\n",
        "The use of deep learning models for feature extraction followed by machine learning classifiers allows for robust image classification in various applications, including object recognition, content-based image retrieval, and more. The choice of classifiers should be based on the specific requirements and characteristics of the dataset, and hyperparameter tuning can further improve classification performance. Overall, this approach provides a valuable framework for leveraging pre-trained models and machine learning techniques for image analysis tasks.\n"
      ]
    },
    {
      "cell_type": "markdown",
      "metadata": {},
      "source": []
    }
  ],
  "metadata": {
    "colab": {
      "gpuType": "T4",
      "provenance": []
    },
    "kernelspec": {
      "display_name": "Python 3",
      "name": "python3"
    },
    "language_info": {
      "name": "python"
    }
  },
  "nbformat": 4,
  "nbformat_minor": 0
}
